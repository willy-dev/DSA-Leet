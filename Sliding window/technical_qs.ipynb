{
 "cells": [
  {
   "cell_type": "code",
   "execution_count": 1,
   "id": "2c545f2d-0759-49dc-b7dd-621b586ec4ef",
   "metadata": {},
   "outputs": [],
   "source": [
    "class Solution:\n",
    "    def max_profit(self, prices):\n",
    "        '''\n",
    "        prices: array\n",
    "        return profit\n",
    "        '''\n",
    "        l,r = 0,1 # buy and sell indices\n",
    "        profit = 0 # initial profit\n",
    "        while r < len(prices):\n",
    "            if prices[r] > prices[l]: # profitable\n",
    "                profit = max(profit, prices[r] - prices[l])\n",
    "            else: # lower buying price\n",
    "                l = r\n",
    "            r += 1\n",
    "        return profit\n",
    "\n",
    "    def length_longest_substring(self, s):\n",
    "        '''\n",
    "        s: str\n",
    "        return: length of longest substring without repeating characters\n",
    "        rtype: int\n",
    "        '''\n",
    "        charset = set()\n",
    "        l = 0\n",
    "        res = 0\n",
    "\n",
    "        for r in range(len(s)):\n",
    "            while (s[r] in charset):\n",
    "                charset.remove(s[l])\n",
    "                l += 1\n",
    "            charset.add(s[r])\n",
    "            res = max(res, r - l + 1)\n",
    "        return res"
   ]
  },
  {
   "cell_type": "code",
   "execution_count": 2,
   "id": "0f6654ed-6554-4e61-9bff-a11117419f36",
   "metadata": {},
   "outputs": [],
   "source": [
    "s = Solution()\n"
   ]
  },
  {
   "cell_type": "code",
   "execution_count": 3,
   "id": "75c28172-5ad8-4ef7-8b70-7ead4cf5a9ed",
   "metadata": {},
   "outputs": [
    {
     "name": "stdout",
     "output_type": "stream",
     "text": [
      "5\n",
      "3\n"
     ]
    }
   ],
   "source": [
    "print(s.max_profit([7,1,5,3,6,4]))\n",
    "print(s.length_longest_substring(\"abcabcbb\"))"
   ]
  },
  {
   "cell_type": "code",
   "execution_count": null,
   "id": "3f2def24-8ebd-4acc-9abd-f819f754cf96",
   "metadata": {},
   "outputs": [],
   "source": []
  }
 ],
 "metadata": {
  "kernelspec": {
   "display_name": "Python 3.8 (gro)",
   "language": "python",
   "name": "gro"
  },
  "language_info": {
   "codemirror_mode": {
    "name": "ipython",
    "version": 3
   },
   "file_extension": ".py",
   "mimetype": "text/x-python",
   "name": "python",
   "nbconvert_exporter": "python",
   "pygments_lexer": "ipython3",
   "version": "3.8.13"
  }
 },
 "nbformat": 4,
 "nbformat_minor": 5
}
