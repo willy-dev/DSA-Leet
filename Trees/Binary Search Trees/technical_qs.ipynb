{
 "cells": [
  {
   "cell_type": "markdown",
   "id": "8df28d35-5ddd-459f-8d4c-02bf9ac776f6",
   "metadata": {},
   "source": [
    "# References  \n",
    "[Level Order Traversal](https://youtu.be/aM-oswPn19o)  "
   ]
  },
  {
   "cell_type": "code",
   "execution_count": 2,
   "id": "d2f4a023-9691-460a-bb12-32d5206ddd56",
   "metadata": {},
   "outputs": [],
   "source": [
    "class Queue(object):\n",
    "    def __init__(self):\n",
    "        self.items = []\n",
    "    def is_empty(self):\n",
    "        return len(self.items) == 0\n",
    "    def enqueue(self, item):\n",
    "        self.items.insert(0, item)\n",
    "    def dequeue(self):\n",
    "        if not self.is_empty():\n",
    "            return self.items.pop()\n",
    "    def peek(self):\n",
    "        if not self.is_empty():\n",
    "            return self.items[-1]\n",
    "    def __len__(self):\n",
    "        return len(self.items)"
   ]
  },
  {
   "cell_type": "code",
   "execution_count": 3,
   "id": "0cf78e23-796b-458c-b60f-75528d2a7129",
   "metadata": {},
   "outputs": [],
   "source": [
    "# Definition for a binary tree node.\n",
    "class Node:\n",
    "    def __init__(self, val):\n",
    "        self.val = val\n",
    "        self.left = None\n",
    "        self.right = None\n",
    "\n",
    "    def insert(self, data):\n",
    "        if self.val == data:\n",
    "            return False\n",
    "\n",
    "        elif self.val > data:\n",
    "            if self.left:\n",
    "                return self.left.insert(data)\n",
    "            else:\n",
    "                self.left = Node(data)\n",
    "                return True\n",
    "\n",
    "        else:\n",
    "            if self.right:\n",
    "                return self.right.insert(data)\n",
    "            else:\n",
    "                self.right = Node(data)\n",
    "                return True"
   ]
  },
  {
   "cell_type": "code",
   "execution_count": 4,
   "id": "8eb18f6e-bc97-498f-8476-9c1a236b07eb",
   "metadata": {},
   "outputs": [],
   "source": [
    "class Tree:\n",
    "    def __init__(self):\n",
    "        self.root = None\n",
    "\n",
    "    def insert(self, data):\n",
    "        if self.root:\n",
    "            return self.root.insert(data)\n",
    "        else:\n",
    "            self.root = Node(data)\n",
    "            return True"
   ]
  },
  {
   "cell_type": "code",
   "execution_count": 5,
   "id": "24e781ec-516a-4b2a-80bb-4e8513992dd5",
   "metadata": {},
   "outputs": [],
   "source": [
    "class Solution:\n",
    "    def inorder(self, start):\n",
    "        if start:\n",
    "            self.inorder(start.left)\n",
    "            print(str(start.val), end=' ')\n",
    "            self.inorder(start.right)\n",
    "\n",
    "    def preorder(self, start):\n",
    "        if start:\n",
    "            print(str(start.val), end='')\n",
    "            self.preorder(start.left)\n",
    "            self.preorder(start.right)\n",
    "\n",
    "    def postorder(self, start):\n",
    "        if start:\n",
    "            self.preorder(start.left)\n",
    "            self.preorder(start.right)\n",
    "            print(str(start.val), end=' ')\n",
    "\n",
    "    def levelorder(self, start):\n",
    "        if not start:\n",
    "            return\n",
    "        que = Queue()\n",
    "        que.enqueue(start)\n",
    "        res = ''\n",
    "        while len(que) > 0:\n",
    "            node = que.peek()\n",
    "            res += str(node.val) + ' '\n",
    "            que.dequeue()\n",
    "            if node.left:\n",
    "                que.enqueue(node.left)\n",
    "            if node.right:\n",
    "                que.enqueue(node.right)\n",
    "        return res\n",
    "\n",
    "    def invertTree(self, start):\n",
    "        if start:\n",
    "            temp = start.left\n",
    "            start.left = start.right\n",
    "            start.right = temp\n",
    "\n",
    "            self.invertTree(start.left)\n",
    "            self.invertTree(start.right)\n",
    "            return start\n",
    "        else:\n",
    "            return None\n",
    "\n",
    "    def isBalanced(self, start):\n",
    "\n",
    "        def dfs(start):\n",
    "            if not start:\n",
    "                return [True, 0]\n",
    "            print()\n",
    "            node_data = start.val\n",
    "            print(f'node data : {node_data}')\n",
    "            left, right = dfs(start.left), dfs(start.right)\n",
    "            #print()\n",
    "            balanced = (left[0] and right[0] and\n",
    "                        abs(left[1] - right[1]) <= 1)\n",
    "            height = max(left[1], right[1])\n",
    "            print(f'height : {height}')\n",
    "            print(balanced)\n",
    "            print()\n",
    "\n",
    "            return [balanced, 1 + height]\n",
    "\n",
    "        return dfs(start)[0]\n",
    "\n",
    "    def diameterOfBinaryTree(self, start):\n",
    "        res = [0]\n",
    "\n",
    "        def dfs(start):\n",
    "            if not start:\n",
    "                return -1\n",
    "            if start.left:\n",
    "                print(f'left node : {start.left.val}')\n",
    "            if start.right:\n",
    "                print(f'right node : {start.right.val}')\n",
    "                print()\n",
    "            left = dfs(start.left)\n",
    "            right = dfs(start.right)\n",
    "            res[0] = max(res[0], 2 + left + right)\n",
    "            print(f'Calculated Diameter : {2 + left + right}')\n",
    "            print(f'Diameter : {res[0]}')\n",
    "\n",
    "            height = max(left, right)\n",
    "            print(f'Height : {1 + height}')\n",
    "            print()\n",
    "            return 1 + height\n",
    "\n",
    "        dfs(start)\n",
    "        return res[0]\n",
    "\n",
    "    def lowestCommonAncestor(self, root, p, q):\n",
    "        cur = root\n",
    "        while cur:\n",
    "            if p > cur.val and q > cur.val:\n",
    "                cur = cur.right\n",
    "            elif p < cur.val and q < cur.val:\n",
    "                cur = cur.left\n",
    "            else:\n",
    "                return cur.val"
   ]
  },
  {
   "cell_type": "code",
   "execution_count": 6,
   "id": "b858e82d-0432-4639-99df-46a8453bba98",
   "metadata": {},
   "outputs": [],
   "source": [
    "nums = [4,2,7,1,3,6,9,10,13]\n",
    "tree = Tree()\n",
    "for num in nums:\n",
    "    tree.insert(num)\n",
    "\n",
    "s = Solution()\n"
   ]
  },
  {
   "cell_type": "code",
   "execution_count": 7,
   "id": "addd91ed-3197-450f-8295-f7661987a089",
   "metadata": {},
   "outputs": [
    {
     "name": "stdout",
     "output_type": "stream",
     "text": [
      "Inorder traversal\n",
      "left subtree -> root -> right subtree\n",
      "1 2 3 4 6 7 9 10 13 "
     ]
    }
   ],
   "source": [
    "\n",
    "print('Inorder traversal')\n",
    "print(\"left subtree -> root -> right subtree\")\n",
    "s.inorder(tree.root)\n",
    "\n"
   ]
  },
  {
   "cell_type": "code",
   "execution_count": 8,
   "id": "3a098b38-19a0-4f98-81bb-4f30680faa65",
   "metadata": {},
   "outputs": [
    {
     "name": "stdout",
     "output_type": "stream",
     "text": [
      "\n",
      "\n",
      "Preorder traversal\n",
      "root -> left subtree -> right subtree\n",
      "42137691013"
     ]
    }
   ],
   "source": [
    "print('\\n')\n",
    "print('Preorder traversal')\n",
    "print(\"root -> left subtree -> right subtree\")\n",
    "s.preorder(tree.root)\n",
    "\n"
   ]
  },
  {
   "cell_type": "code",
   "execution_count": 10,
   "id": "4edf6c8a-bb4e-483b-9ade-987fdfffcfc9",
   "metadata": {},
   "outputs": [
    {
     "name": "stdout",
     "output_type": "stream",
     "text": [
      "\n",
      "\n",
      "Postorder traversal\n",
      "left subtree -> right subtree -> root \n",
      "79101362314 "
     ]
    }
   ],
   "source": [
    "print('\\n')\n",
    "print('Postorder traversal')\n",
    "print(\"left subtree -> right subtree -> root \")\n",
    "s.postorder(tree.root)\n",
    "\n"
   ]
  },
  {
   "cell_type": "code",
   "execution_count": 11,
   "id": "ce4ab368-b5b7-4277-8674-f536a804c9eb",
   "metadata": {},
   "outputs": [
    {
     "name": "stdout",
     "output_type": "stream",
     "text": [
      "\n",
      "\n",
      "levelorder traversal\n",
      "level by level\n",
      "4 7 2 9 6 3 1 10 13 \n"
     ]
    }
   ],
   "source": [
    "print('\\n')\n",
    "print('levelorder traversal')\n",
    "print(\"level by level\")\n",
    "print(s.levelorder(tree.root))\n",
    "\n",
    "\n"
   ]
  },
  {
   "cell_type": "code",
   "execution_count": 12,
   "id": "73eac303-91a8-4476-bb6e-37d8ea558634",
   "metadata": {},
   "outputs": [
    {
     "name": "stdout",
     "output_type": "stream",
     "text": [
      "\n",
      "\n",
      "Invert Tree\n",
      "Before Invering : 4 7 2 9 6 3 1 10 13 \n",
      "After inverting : 4 2 7 1 3 6 9 10 13 \n"
     ]
    }
   ],
   "source": [
    "print('\\n')\n",
    "print('Invert Tree')\n",
    "print(f\"Before Invering : {s.levelorder(tree.root)}\")\n",
    "root = s.invertTree(tree.root)\n",
    "print(f\"After inverting : {s.levelorder(root)}\")\n",
    "\n",
    "\n"
   ]
  },
  {
   "cell_type": "code",
   "execution_count": 13,
   "id": "e8e7ae32-7ede-4def-a617-56021b2c52cc",
   "metadata": {},
   "outputs": [
    {
     "name": "stdout",
     "output_type": "stream",
     "text": [
      "\n",
      "\n",
      "Is Tree balanced\n",
      "a binary tree in which the left and right subtrees of every node differ in height by no more than 1.\n",
      "\n",
      "node data : 4\n",
      "\n",
      "node data : 2\n",
      "\n",
      "node data : 1\n",
      "height : 0\n",
      "True\n",
      "\n",
      "\n",
      "node data : 3\n",
      "height : 0\n",
      "True\n",
      "\n",
      "height : 1\n",
      "True\n",
      "\n",
      "\n",
      "node data : 7\n",
      "\n",
      "node data : 6\n",
      "height : 0\n",
      "True\n",
      "\n",
      "\n",
      "node data : 9\n",
      "\n",
      "node data : 10\n",
      "\n",
      "node data : 13\n",
      "height : 0\n",
      "True\n",
      "\n",
      "height : 1\n",
      "True\n",
      "\n",
      "height : 2\n",
      "False\n",
      "\n",
      "height : 3\n",
      "False\n",
      "\n",
      "height : 4\n",
      "False\n",
      "\n",
      "False\n"
     ]
    }
   ],
   "source": [
    "\n",
    "print('\\n')\n",
    "print('Is Tree balanced')\n",
    "print('a binary tree in which the left and right subtrees of '\n",
    "      'every node differ in height by no more than 1.')\n",
    "print(s.isBalanced(tree.root))\n",
    "\n",
    "\n"
   ]
  },
  {
   "cell_type": "code",
   "execution_count": 14,
   "id": "131a3720-5c33-45be-8daa-33ce24241d36",
   "metadata": {},
   "outputs": [
    {
     "name": "stdout",
     "output_type": "stream",
     "text": [
      "\n",
      "\n",
      "Diameter of binary tree\n",
      "left node : 2\n",
      "right node : 7\n",
      "\n",
      "left node : 1\n",
      "right node : 3\n",
      "\n",
      "Calculated Diameter : 0\n",
      "Diameter : 0\n",
      "Height : 0\n",
      "\n",
      "Calculated Diameter : 0\n",
      "Diameter : 0\n",
      "Height : 0\n",
      "\n",
      "Calculated Diameter : 2\n",
      "Diameter : 2\n",
      "Height : 1\n",
      "\n",
      "left node : 6\n",
      "right node : 9\n",
      "\n",
      "Calculated Diameter : 0\n",
      "Diameter : 2\n",
      "Height : 0\n",
      "\n",
      "right node : 10\n",
      "\n",
      "right node : 13\n",
      "\n",
      "Calculated Diameter : 0\n",
      "Diameter : 2\n",
      "Height : 0\n",
      "\n",
      "Calculated Diameter : 1\n",
      "Diameter : 2\n",
      "Height : 1\n",
      "\n",
      "Calculated Diameter : 2\n",
      "Diameter : 2\n",
      "Height : 2\n",
      "\n",
      "Calculated Diameter : 4\n",
      "Diameter : 4\n",
      "Height : 3\n",
      "\n",
      "Calculated Diameter : 6\n",
      "Diameter : 6\n",
      "Height : 4\n",
      "\n",
      "6\n"
     ]
    }
   ],
   "source": [
    "print('\\n')\n",
    "print('Diameter of binary tree')\n",
    "print(s.diameterOfBinaryTree(tree.root))\n",
    "\n"
   ]
  },
  {
   "cell_type": "code",
   "execution_count": 15,
   "id": "309d6b2e-6a05-4dcd-8913-533e1fef8a4c",
   "metadata": {},
   "outputs": [
    {
     "name": "stdout",
     "output_type": "stream",
     "text": [
      "\n",
      "\n",
      "Lowest common ancestor\n",
      "7\n"
     ]
    }
   ],
   "source": [
    "print('\\n')\n",
    "print('Lowest common ancestor')\n",
    "print(s.lowestCommonAncestor(tree.root, 6, 10))"
   ]
  },
  {
   "cell_type": "code",
   "execution_count": null,
   "id": "0f3523bb-52dd-4afd-b87a-53de84bebd21",
   "metadata": {},
   "outputs": [],
   "source": []
  }
 ],
 "metadata": {
  "kernelspec": {
   "display_name": "Python 3.8 (gro)",
   "language": "python",
   "name": "gro"
  },
  "language_info": {
   "codemirror_mode": {
    "name": "ipython",
    "version": 3
   },
   "file_extension": ".py",
   "mimetype": "text/x-python",
   "name": "python",
   "nbconvert_exporter": "python",
   "pygments_lexer": "ipython3",
   "version": "3.8.13"
  }
 },
 "nbformat": 4,
 "nbformat_minor": 5
}
