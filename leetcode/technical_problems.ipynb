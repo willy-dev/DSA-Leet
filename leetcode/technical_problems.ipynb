{
 "cells": [
  {
   "cell_type": "markdown",
   "id": "44bc0462-84b0-4c0e-9bc0-604f3e7af62a",
   "metadata": {
    "tags": []
   },
   "source": [
    "# __Table of Contents__   \n",
    "[Time Complexity References](#Time-Complexity-References)\n",
    "[Two Sum](#Two-Sum)  \n",
    "[Add Two numbers](#Add-Two-numbers)  \n",
    "[Longest substring without repeating characters](#Longest-substring-without-repeating-characters)  \n",
    "[Median of Two sorted arrays](#Median-of-Two-sorted-arrays)  \n",
    "[Zigzag conversion](#Zigzag-conversion)    \n",
    "[String to Integer (atoi)](#String-to-Integer-(atoi))\n",
    "[Container with most water](#Container-with-most-water)  \n",
    "[Palindrome Number](#Palindrome-Number)  \n",
    "[Integer to Roman](#Integer-to-Roman)  \n",
    "[Longest Running Prefix](#Longest-Running-Prefix)  \n",
    "[3 sum](#3-sum)    \n",
    "[Letter Combinations of Phone numbers](#Letter-Combinations-of-Phone-numbers)    \n",
    "[3 sum closest](#3-sum-closest)  "
   ]
  },
  {
   "cell_type": "markdown",
   "id": "c52c9de7-2b66-49d0-9cc4-bffff365ee28",
   "metadata": {},
   "source": [
    "# Time Complexity References\n",
    "<a href = 'https://youtu.be/IR_S8BC8KI0' target = 'blank'> Time Complexity</a>"
   ]
  },
  {
   "cell_type": "markdown",
   "id": "0787a14e",
   "metadata": {
    "tags": []
   },
   "source": [
    "# Two Sum  \n",
    "<a href = 'https://leetcode.com/problems/two-sum/' target = 'blank'> Problem Description</a>"
   ]
  },
  {
   "cell_type": "markdown",
   "id": "5639a443-1064-4b7e-8ae4-79d558c7737b",
   "metadata": {},
   "source": [
    "## Solution 1"
   ]
  },
  {
   "cell_type": "code",
   "execution_count": 17,
   "id": "b88aa131",
   "metadata": {},
   "outputs": [
    {
     "name": "stdout",
     "output_type": "stream",
     "text": [
      "(0, 0)\n"
     ]
    }
   ],
   "source": [
    "#wrong ans\n",
    "def two_sum(nums, target):\n",
    "    vals = set()\n",
    "    for num in nums:\n",
    "        val = target - num\n",
    "        if num in vals:\n",
    "            ans = (nums.index(num), nums.index(val) )\n",
    "            return ans\n",
    "        vals.add(val)\n",
    "        \n",
    "print(two_sum([3,3], 6))"
   ]
  },
  {
   "cell_type": "markdown",
   "id": "d0c6364c",
   "metadata": {},
   "source": [
    "## Solution 2\n"
   ]
  },
  {
   "cell_type": "code",
   "execution_count": 19,
   "id": "3e6d62f2",
   "metadata": {},
   "outputs": [
    {
     "name": "stdout",
     "output_type": "stream",
     "text": [
      "(0, 1)\n"
     ]
    }
   ],
   "source": [
    "#correct ans\n",
    "def two_sum(nums, target):\n",
    "    vals = set()\n",
    "    i = 0\n",
    "    while i < len(nums):\n",
    "        val = target - nums[i]\n",
    "        if nums[i] in vals:\n",
    "            ans = ( nums.index(val), i)\n",
    "            return ans\n",
    "        else:\n",
    "            vals.add(val)\n",
    "            i += 1\n",
    "print(two_sum([3,3], 6))"
   ]
  },
  {
   "cell_type": "markdown",
   "id": "5dbbd4a3",
   "metadata": {
    "tags": []
   },
   "source": [
    "# Add Two numbers  \n",
    "You are given two non-empty linked lists representing two non-negative integers. The digits are stored in reverse order, and each of their nodes contains a single digit. Add the two numbers and return the sum as a linked list.\n",
    "\n",
    "You may assume the two numbers do not contain any leading zero, except the number 0 itself\n",
    "\n",
    "<a href = 'https://leetcode.com/problems/add-two-numbers/' target = 'blank'> Problem Description</a>"
   ]
  },
  {
   "cell_type": "markdown",
   "id": "9e73f114",
   "metadata": {},
   "source": [
    "## Solution 1 : Custom\n",
    "This first solution does not use the linked list class provided by leetcode"
   ]
  },
  {
   "cell_type": "code",
   "execution_count": 26,
   "id": "d4bd7a2b",
   "metadata": {},
   "outputs": [
    {
     "name": "stdout",
     "output_type": "stream",
     "text": [
      "0 \n",
      "0 \n",
      "0 \n"
     ]
    }
   ],
   "source": [
    "class Node:\n",
    "    def __init__(self, v, n=None):\n",
    "        self.value = v\n",
    "        self.next = n\n",
    "\n",
    "class Linked_List:\n",
    "    def __init__(self, r = None):\n",
    "        self.root = r\n",
    "\n",
    "    def add(self, v):\n",
    "        if self.root == None:\n",
    "            new_node = Node(v)\n",
    "            self.root = new_node\n",
    "        else:\n",
    "            new_node = Node(v, self.root)\n",
    "            self.root = new_node\n",
    "\n",
    "    def __str__(self):\n",
    "        linkedListStr = \"\"\n",
    "        temp = self.root\n",
    "        while temp:\n",
    "            linkedListStr = (linkedListStr +\n",
    "                             str(temp.value) + \" \")\n",
    "            temp = temp.next\n",
    "        return linkedListStr\n",
    "\n",
    "class Solution(object):\n",
    "    def add_two_numbers(self, *args):\n",
    "        sum_nums = 0\n",
    "        for lst in args:\n",
    "            l_str = ''\n",
    "            temp = lst.root\n",
    "            while temp:\n",
    "                l_str = l_str + str(temp.value)\n",
    "                temp = temp.next\n",
    "            sum_nums += int(l_str[::-1])\n",
    "        ans_lst = Linked_List()\n",
    "        for i in str(sum_nums):\n",
    "            ans_lst.add(i)\n",
    "        return ans_lst\n",
    "\n",
    "l1 = [0]\n",
    "l2 = [0]\n",
    "\n",
    "lnkd_lst_1 = Linked_List()\n",
    "for val in l1:\n",
    "    lnkd_lst_1.add(val)\n",
    "print(lnkd_lst_1)\n",
    "\n",
    "lnkd_lst_2 = Linked_List()\n",
    "for val in l2:\n",
    "    lnkd_lst_2.add(val)\n",
    "print(lnkd_lst_2)\n",
    "\n",
    "s = Solution()\n",
    "ans = s.add_two_numbers(lnkd_lst_1, lnkd_lst_2)\n",
    "print(ans)"
   ]
  },
  {
   "cell_type": "markdown",
   "id": "52f3b101",
   "metadata": {},
   "source": [
    "## Solution 2  \n",
    "\n",
    "<a href = 'https://towardsdatascience.com/leetcode-problem-2-python-1c59efdf3367/' target = 'blank'> Reference</a>\n",
    "\n",
    "Assuming that the length of l1 linked list is m and the length of l2 linked list is n then we are iterating at most m or n times depending on which of the two has more nodes.   \n",
    "Therefore, the time complexity of the algorithm is O(max(m, n))."
   ]
  },
  {
   "cell_type": "code",
   "execution_count": 1,
   "id": "971fb056",
   "metadata": {},
   "outputs": [],
   "source": [
    "class ListNode(object):\n",
    "    def __init__(self, val=0, next=None):\n",
    "         self.val = val\n",
    "         self.next = next\n",
    "\n",
    "\n",
    "class Solution(object):\n",
    "    def addTwoNumbers(self, l1, l2):\n",
    "        \"\"\"\n",
    "        :type l1: ListNode\n",
    "        :type l2: ListNode\n",
    "        :rtype: ListNode\n",
    "        \"\"\"\n",
    "        carry = 0\n",
    "        result = ListNode(0)\n",
    "        pointer = result #pointer and result are referenced to the same object.\n",
    "        while (l1 or l2 or carry):\n",
    "            first_num = l1.val if l1 else 0 #check if current node is not None\n",
    "            second_num = l2.val if l2 else 0\n",
    "\n",
    "            summation = first_num + second_num + carry\n",
    "            num = summation % 10\n",
    "            carry = summation // 10\n",
    "\n",
    "            pointer.next = ListNode(num)\n",
    "\n",
    "            pointer = pointer.next #update pointer with the result\n",
    "            l1 = l1.next if l1 else None\n",
    "            l2 = l2.next if l2 else None\n",
    "        return result.next\n",
    "\n"
   ]
  },
  {
   "cell_type": "markdown",
   "id": "4d7205c8",
   "metadata": {},
   "source": [
    "# Longest substring without repeating characters  \n",
    "Given a string s, find the length of the longest substring without repeating characters.   \n",
    "\n",
    "<a href = 'https://leetcode.com/problems/longest-substring-without-repeating-characters/' target = 'blank'> Problem Description</a>"
   ]
  },
  {
   "cell_type": "markdown",
   "id": "3540b294",
   "metadata": {},
   "source": [
    "## Solution 1\n"
   ]
  },
  {
   "cell_type": "code",
   "execution_count": 11,
   "id": "d3dda5a2",
   "metadata": {},
   "outputs": [
    {
     "name": "stdout",
     "output_type": "stream",
     "text": [
      "55\n"
     ]
    }
   ],
   "source": [
    "def longest_substring(s):\n",
    "    if len(s) == 0:\n",
    "        return 0\n",
    "    # s = s.lower() #dont lower the string as it may contain both lower and uppercase characters\n",
    "    # which are supposed to be treated as different eg 'aAbB'\n",
    "    seen = set()\n",
    "    final_str = ''\n",
    "    sub_str = ''\n",
    "    i = 0\n",
    "    while i < len(s):\n",
    "        if s[i] not in seen:\n",
    "            seen.add(str(s[i]))\n",
    "            sub_str += str(s[i])\n",
    "        elif s[i] in seen:\n",
    "            seen.clear()\n",
    "            j = i-1\n",
    "            while j >= 0:\n",
    "                if s[i] == s[j]:\n",
    "                    break\n",
    "                seen.add(str(s[j]))\n",
    "                j -= 1\n",
    "            seen.add(str(s[i]))\n",
    "            sub_str = ''.join(seen)\n",
    "        if len(sub_str) > len(final_str):\n",
    "            final_str = sub_str\n",
    "        i+=1\n",
    "    return len(final_str)\n",
    "\n",
    "print(longest_substring(\"hijklmnopqrstuvwxyzABCDEFGHIJKLMNOPQRSTUVWXYZ0123456789hijklmnopqrstuvwxyzABCDEFGHIJKLMNOPQRSTUVWXYZ0123456789hijklmnopqrstuvwxyzABCDEFGHIJKLMNOPQRSTUVWXYZ0123456789hijklmnopqrstuvwxyzABCDEFGHIJKLMNOPQRSTUVWXYZ0123456789hijklmnopqrstuvwxyzABCDEFGHIJKLMNOPQRSTUVWXYZ0123456789hijklmnopqrstuvwxyzABCDEFGHIJKLMNOPQRSTUVWXYZ0123456789\"))"
   ]
  },
  {
   "cell_type": "markdown",
   "id": "353c2451",
   "metadata": {},
   "source": [
    "## Solution 2 \n",
    "\n",
    "Check method 2 of <a href = 'https://www.geeksforgeeks.org/length-of-the-longest-substring-without-repeating-characters/' target = 'blank'>this page </a>\n",
    "\n",
    "Quadratic time  \n",
    "Using a sliding window.  Whenever we see repetition, we remove the previous occurrence and slide the window.  \n",
    "O(n^2)"
   ]
  },
  {
   "cell_type": "code",
   "execution_count": 17,
   "id": "c9a11b4d",
   "metadata": {},
   "outputs": [],
   "source": [
    "def lengthOfLongestSubstring(self, s):\n",
    "    \"\"\"\n",
    "    :type s: str\n",
    "    :rtype: int\n",
    "    \"\"\"\n",
    "    n = len(s)\n",
    "\n",
    "    # Result\n",
    "    res = 0\n",
    "\n",
    "    for i in range(n):\n",
    "\n",
    "        # Note : Default values in\n",
    "        # visited are false\n",
    "        visited = [0] * 256\n",
    "\n",
    "        for j in range(i, n):\n",
    "\n",
    "            # If current character is visited\n",
    "            # Break the loop\n",
    "            if (visited[            # current character as visited.\n",
    "ord(s[j])] == True):\n",
    "                break\n",
    "\n",
    "            # Else update the result if\n",
    "            # this window is larger, and mark\n",
    "            else:\n",
    "                res = max(res, j - i + 1)\n",
    "                visited[ord(s[j])] = True\n",
    "\n",
    "        # Remove the first character of previous\n",
    "        # window\n",
    "        visited[ord(s[i])] = False\n",
    "\n",
    "    return res"
   ]
  },
  {
   "cell_type": "markdown",
   "id": "5a0d180c",
   "metadata": {},
   "source": [
    "## Solution 3\n",
    "\n",
    "Check method 3 of <a href = 'https://www.geeksforgeeks.org/length-of-the-longest-substring-without-repeating-characters/' target = 'blank'>this page </a>\n",
    "\n",
    "Linear Time  \n",
    "Time Complexity: O(n + d) where n is length of the input string and d is number of characters in input string alphabet. For example, if string consists of lowercase English characters then value of d is 26. \n",
    "Auxiliary Space: O(d) "
   ]
  },
  {
   "cell_type": "code",
   "execution_count": 1,
   "id": "15244ecc",
   "metadata": {},
   "outputs": [
    {
     "name": "stdout",
     "output_type": "stream",
     "text": [
      "The input string is geeksforgeeks\n",
      "The length of the longest non-repeating character substring is 7\n"
     ]
    }
   ],
   "source": [
    "# without repeating characters\n",
    "def longestUniqueSubsttr(string):\n",
    "    # last index of every character\n",
    "    last_idx = {}\n",
    "    max_len = 0\n",
    "\n",
    "    # starting index of current\n",
    "    # window to calculate max_len\n",
    "    start_idx = 0\n",
    "\n",
    "    for i in range(0, len(string)):\n",
    "        #slide the window one step forward from last occurence\n",
    "        if string[i] in last_idx:\n",
    "            start_idx = max(start_idx, last_idx[string[i]] + 1)\n",
    "\n",
    "        # Update result if we get a larger window\n",
    "        max_len = max(max_len, i - start_idx + 1)\n",
    "\n",
    "        # Update last index of current char.\n",
    "        last_idx[string[i]] = i\n",
    "\n",
    "    return max_len\n",
    "\n",
    "\n",
    "# Driver program to test the above function\n",
    "string = \"geeksforgeeks\"\n",
    "print(\"The input string is \" + string)\n",
    "length = longestUniqueSubsttr(string)\n",
    "print(\"The length of the longest non-repeating character\" +\n",
    "      \" substring is \" + str(length))"
   ]
  },
  {
   "cell_type": "markdown",
   "id": "cbd37560",
   "metadata": {},
   "source": [
    "# Median of Two sorted arrays  \n",
    "\n",
    "<a href = 'https://leetcode.com/problems/median-of-two-sorted-arrays/' target = 'blank'> Problem Description</a>\n",
    "\n",
    "Given two sorted arrays nums1 and nums2 of size m and n respectively, return the median of the two sorted arrays.\n",
    "\n",
    "The overall run time complexity should be O(log (m+n)).  \n",
    "An algorithm is said to have a logarithmic time complexity when it reduces the size of the input data in each step (it don’t need to look at all values of the input data)  \n"
   ]
  },
  {
   "cell_type": "markdown",
   "id": "805b8ba9-7d65-4f23-a0a7-ec3cf6e1e4f7",
   "metadata": {},
   "source": [
    "## Solution 1  \n",
    "The solution below has time complexity O( log (min (n, m) ) ).  \n",
    "It has two pointers; left,l and right,r on the smallest array.  \n",
    "Everytime either pointer is moved, the number of times the pointer has to be moved for the algorithm to arrive at the median decrease.  \n",
    "\n",
    "<a href='https://youtu.be/q6IEA26hvXc' target= 'blank'>video reference | Binary Search</a>"
   ]
  },
  {
   "cell_type": "code",
   "execution_count": 1,
   "id": "ec7e1742",
   "metadata": {},
   "outputs": [
    {
     "name": "stdout",
     "output_type": "stream",
     "text": [
      "5.5\n"
     ]
    }
   ],
   "source": [
    "def findMedianSortedArrays(nums1, nums2):\n",
    "    \"\"\"\n",
    "    :type nums1: List[int]\n",
    "    :type nums2: List[int]\n",
    "    :rtype: float\n",
    "    \"\"\"\n",
    "    a, b = nums1, nums2\n",
    "    if len(a) > len(b):\n",
    "        a, b = b, a\n",
    "    total = len(a) + len(b)\n",
    "    half = total // 2\n",
    "\n",
    "    l, r = 0, len(a) - 1\n",
    "    while True:\n",
    "        i = (l + r) // 2\n",
    "        j = half - i - 2\n",
    "\n",
    "        a_left = a[i] if i >= 0 else float('-infinity')\n",
    "        a_right = a[i + 1] if (i + 1) < len(a) else float('infinity')\n",
    "        b_left = b[j] if j >= 0 else float('-infinity')\n",
    "        b_right = b[j + 1] if (j + 1) < len(b) else float('infinity')\n",
    "\n",
    "        if a_left <= b_right and b_left <= a_right:\n",
    "            if total % 2:\n",
    "                return min(a_right, b_right)\n",
    "            # even\n",
    "            return (max(a_left, b_left) + min(a_right, b_right)) / 2.0\n",
    "\n",
    "        elif a_left > b_right:\n",
    "            r = i - 1\n",
    "        elif b_left > a_right:\n",
    "            l = i + 1\n",
    "\n",
    "median = findMedianSortedArrays([1,2,3,4,5,6,7,8], [5,6,9,10])\n",
    "print(median)"
   ]
  },
  {
   "cell_type": "markdown",
   "id": "62fb67b5",
   "metadata": {
    "tags": []
   },
   "source": [
    "# Longest Palindromic Substring  \n",
    "\n",
    "<a href = 'https://leetcode.com/problems/longest-palindromic-substring/' target = 'blank'> Problem Description</a>  \n"
   ]
  },
  {
   "cell_type": "markdown",
   "id": "3b7b742b-5736-43b9-b86b-d28a5751ea3b",
   "metadata": {},
   "source": [
    "## Solution 1  \n",
    "Consider every character as the middle of the sub string  \n",
    "Move left and right pointers  \n",
    "Check if values are equal    \n",
    "Time complexity: O(n^2)  \n",
    "\n",
    "<a href='https://youtu.be/XYQecbcd6_c' target= 'blank'>video reference</a>"
   ]
  },
  {
   "cell_type": "code",
   "execution_count": 1,
   "id": "16346580",
   "metadata": {},
   "outputs": [
    {
     "name": "stdout",
     "output_type": "stream",
     "text": [
      "a\n"
     ]
    }
   ],
   "source": [
    "def longestPalindrome(s):\n",
    "    \"\"\"\n",
    "    :type s: str\n",
    "    :rtype: str\n",
    "    \"\"\"\n",
    "    sub_str = ''\n",
    "    max_len = 0\n",
    "    for i in range(len(s)):\n",
    "        # odd length\n",
    "        l, r = i, i\n",
    "        while l >= 0 and r < len(s) and s[l] == s[r]:\n",
    "            if (r - l + 1) > max_len:\n",
    "                sub_str = s[l: r + 1]\n",
    "                max_len = r - l + 1\n",
    "            l -= 1\n",
    "            r += 1\n",
    "            \n",
    "        #even length\n",
    "        l, r = i, i + 1\n",
    "        while l >= 0 and r < len(s) and s[l] == s[r]:\n",
    "            if (r - l + 1) > max_len:\n",
    "                sub_str = s[l: r + 1]\n",
    "                max_len = r - l + 1\n",
    "            l -= 1\n",
    "            r += 1\n",
    "    return sub_str\n",
    "\n",
    "\n",
    "if __name__ == '__main__':\n",
    "    print(longestPalindrome('ac'))\n"
   ]
  },
  {
   "cell_type": "markdown",
   "id": "afa03b40",
   "metadata": {},
   "source": [
    "# Zigzag conversion  \n",
    "<a href = 'https://leetcode.com/problems/zigzag-conversion/' target = 'blank'> Problem Description</a> "
   ]
  },
  {
   "cell_type": "markdown",
   "id": "fe29e06f",
   "metadata": {},
   "source": [
    "## Solution 1\n",
    "Inneficient soln. Moves the cursor through the zigzag matrix"
   ]
  },
  {
   "cell_type": "code",
   "execution_count": 10,
   "id": "4842501b",
   "metadata": {},
   "outputs": [
    {
     "name": "stdout",
     "output_type": "stream",
     "text": [
      "('bdraf', 5, 5)\n"
     ]
    }
   ],
   "source": [
    "def convert(s, numRows):\n",
    "    if numRows == 1 or numRows >= len(s):\n",
    "        return s\n",
    "    \n",
    "    i = 0 # pointer for row\n",
    "    ans = ''\n",
    "    while i < numRows :\n",
    "        # j is the pointer for column\n",
    "        j, add_j = i, (numRows - 1) * 2\n",
    "        k = add_j - i # k is the pointer for diagonal terms\n",
    "        \n",
    "        while j < len(s) :\n",
    "            if i == 0 or i == numRows - 1: # no diagonal term\n",
    "                ans += s[j]\n",
    "            else: # diagonal term present\n",
    "                try:\n",
    "                    ans += s[j] + s[k]\n",
    "                except IndexError: # last column reached\n",
    "                    ans += s[j]\n",
    "                k = k + add_j # k intervals are same as j\n",
    "            j += add_j\n",
    "        i += 1\n",
    "    return ans, len(ans), len(s)\n",
    "\n",
    "if __name__ == '__main__':\n",
    "    print(convert(s = \"badfr\", numRows = 2))"
   ]
  },
  {
   "cell_type": "markdown",
   "id": "07d0e9c0",
   "metadata": {},
   "source": [
    "## Solution 2\n",
    "O(n)"
   ]
  },
  {
   "cell_type": "code",
   "execution_count": 5,
   "id": "3f761a0b",
   "metadata": {},
   "outputs": [
    {
     "name": "stdout",
     "output_type": "stream",
     "text": [
      "pinalsigyahrpi\n"
     ]
    }
   ],
   "source": [
    "def convert(s, numRows):\n",
    "    if numRows == 1 or numRows >= len(s):\n",
    "        return s\n",
    "\n",
    "    # initialize empty rows\n",
    "    L = [''] * numRows\n",
    "    index, step = 0, 1 #index of rows\n",
    "    for x in s:\n",
    "        L[index] += x\n",
    "        if index == 0: # at the top row of the zigzag\n",
    "            step = 1\n",
    "        elif index == numRows - 1: # bottom row of zigzag\n",
    "            step = -1\n",
    "        index += step\n",
    "\n",
    "    return ''.join(L)\n",
    "\n",
    "if __name__ == '__main__':\n",
    "    print(convert(s = \"paypalishiring\", numRows = 4))\n"
   ]
  },
  {
   "cell_type": "markdown",
   "id": "33f9db45",
   "metadata": {},
   "source": [
    "## Solution 3  \n",
    "Modification of solution 2"
   ]
  },
  {
   "cell_type": "code",
   "execution_count": 6,
   "id": "6b8da332",
   "metadata": {},
   "outputs": [
    {
     "name": "stdout",
     "output_type": "stream",
     "text": [
      "pinalsigyahrpi\n"
     ]
    }
   ],
   "source": [
    "def convert(s, numRows):\n",
    "    # initialize empty rows\n",
    "    L = [''] * numRows\n",
    "    step = (numRows == 1) - 1  # 0 or -1\n",
    "    index = 0 #index of rows\n",
    "    for x in s:\n",
    "        L[index] += x\n",
    "        if index == 0 or index == numRows - 1: # at the top row of the zigzag\n",
    "            step = - step\n",
    "        index += step\n",
    "    return ''.join(L)\n",
    "\n",
    "if __name__ == '__main__':\n",
    "    print(convert(s = \"paypalishiring\", numRows = 4))\n"
   ]
  },
  {
   "cell_type": "markdown",
   "id": "67b32406",
   "metadata": {},
   "source": [
    "# String to Integer (atoi)  \n",
    "<a href = 'https://leetcode.com/problems/string-to-integer-atoi/' target = 'blank'> Problem Description</a> "
   ]
  },
  {
   "cell_type": "markdown",
   "id": "c1e6723d",
   "metadata": {},
   "source": [
    "## Solution 1  \n",
    "Accepted but could be wrong where digits are separated by a space.  \n",
    "Solution 2 handles this situation"
   ]
  },
  {
   "cell_type": "code",
   "execution_count": 2,
   "id": "ca4abfdf",
   "metadata": {},
   "outputs": [
    {
     "name": "stdout",
     "output_type": "stream",
     "text": [
      "0\n"
     ]
    }
   ],
   "source": [
    "def myAtoi(s):\n",
    "    \"\"\"\n",
    "    :type s: str\n",
    "    :rtype: int\n",
    "    \"\"\"\n",
    "    s = s.strip()\n",
    "    if len(s) == 0:\n",
    "        return 0\n",
    "    res = ''\n",
    "    if s[0] in '-+':\n",
    "        res += s[0]\n",
    "        i = 1\n",
    "    else:\n",
    "        i = 0\n",
    "    while i < len(s):\n",
    "        if s[i] not in '0123456789' :\n",
    "            break\n",
    "        res += s[i]\n",
    "        if int(res) < -(2 ** 31) or int(res) > (2 ** 31 - 1):\n",
    "            break\n",
    "        i += 1\n",
    "    if len(res) == 0 or len(res) == 1 and res[0] in '-+':\n",
    "        return 0\n",
    "    elif int(res) < -(2 ** 31):\n",
    "        return -(2 ** 31)\n",
    "    elif int(res) > (2 ** 31 - 1):\n",
    "        return 2 ** 31 - 1\n",
    "    else:\n",
    "        return int(res)\n",
    "ans = myAtoi(\"+-\")\n",
    "print(ans)"
   ]
  },
  {
   "cell_type": "markdown",
   "id": "5838c961",
   "metadata": {},
   "source": [
    "## Solution 2\n",
    "Modification of solution 1  \n",
    "O(n) where n is the length of the string"
   ]
  },
  {
   "cell_type": "code",
   "execution_count": 7,
   "id": "53d24413",
   "metadata": {},
   "outputs": [],
   "source": [
    "def myAtoi(s):\n",
    "        \"\"\"\n",
    "        :type s: str\n",
    "        :rtype: int\n",
    "        \"\"\"\n",
    "        if len(s) == 0:\n",
    "            return 0\n",
    "        res = ''\n",
    "        while True:\n",
    "            space_idx = s.find(' ')\n",
    "            if space_idx == 0: # white space present at the begining\n",
    "                s = s[1:] # remove white space\n",
    "            elif space_idx != 0: # white space present in other locations or none at all\n",
    "                break\n",
    "        \n",
    "        try: # when s is not an empty string\n",
    "            if s[0] in '+-':\n",
    "                res += s[0]\n",
    "                i = 1\n",
    "            else:\n",
    "                i = 0\n",
    "        except IndexError: # s is an empty string\n",
    "            return 0\n",
    "        \n",
    "        while i < len(s):\n",
    "            if s[i] not in '0123456789' :\n",
    "                break\n",
    "            res += s[i]\n",
    "            if int(res) < -(2 ** 31) or int(res) > (2 ** 31 - 1): # outsside the binary range\n",
    "                break\n",
    "            i += 1\n",
    "            \n",
    "        if len(res) == 0 or len(res) == 1 and res[0] in '-+': # no digits found\n",
    "            return 0\n",
    "        elif int(res) < -(2 ** 31): # less than the binary range\n",
    "            return -(2 ** 31)\n",
    "        elif int(res) > (2 ** 31 - 1): # greater than the binary range\n",
    "            return 2 ** 31 - 1\n",
    "        else: # within the binary range\n",
    "            return int(res)\n",
    "\n"
   ]
  },
  {
   "cell_type": "markdown",
   "id": "15338884",
   "metadata": {},
   "source": [
    "#  Container with most water  \n",
    "<a href = 'https://leetcode.com/problems/container-with-most-water/' target = 'blank'> Problem Description</a> "
   ]
  },
  {
   "cell_type": "markdown",
   "id": "8f43778b",
   "metadata": {},
   "source": [
    "## Solution 1\n",
    "Correct but exceeds leetcode time limit.  \n",
    "O(n ** 2)"
   ]
  },
  {
   "cell_type": "code",
   "execution_count": 5,
   "id": "74bc827a",
   "metadata": {},
   "outputs": [
    {
     "name": "stdout",
     "output_type": "stream",
     "text": [
      "49\n"
     ]
    }
   ],
   "source": [
    "def maxArea(height):\n",
    "    \"\"\"\n",
    "    :type height: List[int]\n",
    "    :rtype: int\n",
    "    \"\"\"\n",
    "    max_area = 0\n",
    "    i = 1\n",
    "    while i < len(height):\n",
    "        j = 0\n",
    "        while j < i:\n",
    "            w = i - j # width of rectangle\n",
    "            h = min(height[j], height[i])\n",
    "            area = w * h\n",
    "            max_area = max(area, max_area)\n",
    "            j += 1\n",
    "        i += 1\n",
    "    return max_area\n",
    "print(maxArea([1,8,6,2,5,4,8,3,7]))"
   ]
  },
  {
   "cell_type": "markdown",
   "id": "e45dfdff",
   "metadata": {},
   "source": [
    "## Solution 2\n",
    "<a href='https://leetcode.com/problems/container-with-most-water/solution/' target = 'blank'>Two Pointer Approach </a>  \n",
    "Time complexity : O(n). Single pass.\n",
    "\n",
    "Space complexity : O(1). Constant space is used."
   ]
  },
  {
   "cell_type": "code",
   "execution_count": 4,
   "id": "4cf26554",
   "metadata": {},
   "outputs": [
    {
     "name": "stdout",
     "output_type": "stream",
     "text": [
      "49\n"
     ]
    }
   ],
   "source": [
    "def maxArea(height):\n",
    "    \"\"\"\n",
    "    :type height: List[int]\n",
    "    :rtype: int\n",
    "    \"\"\"\n",
    "    max_area = 0\n",
    "    # initialize left and right pointers\n",
    "    left = 0\n",
    "    right = len(height) - 1\n",
    "    \n",
    "    while left < right:\n",
    "        w = right - left\n",
    "        h = min(height[left], height[right])\n",
    "        max_area = max(max_area, w * h)\n",
    "        # Move the pointer of the smaller height inwards\n",
    "        # Since area is limited by the smaller height, there is a chance of \n",
    "        # greater height inwards into the heights array \n",
    "        if height[left] < height[right]:\n",
    "            left += 1\n",
    "        else:\n",
    "            right -= 1\n",
    "    return max_area\n",
    "\n",
    "print(maxArea([1,8,6,2,5,4,8,3,7]))"
   ]
  },
  {
   "cell_type": "markdown",
   "id": "62f6c1ad",
   "metadata": {},
   "source": [
    "# Palindrome Number \n",
    "<a href = 'https://leetcode.com/problems/palindrome-number/' target = 'blank'>Problem Description</a>"
   ]
  },
  {
   "cell_type": "markdown",
   "id": "570650a1-2099-4f97-a444-a01c1d1f7109",
   "metadata": {},
   "source": [
    "## Solution 1  \n",
    "Time Complexity : O(n) where n is the number of digits in the number x"
   ]
  },
  {
   "cell_type": "code",
   "execution_count": 3,
   "id": "81290625",
   "metadata": {},
   "outputs": [
    {
     "name": "stdout",
     "output_type": "stream",
     "text": [
      "True\n"
     ]
    }
   ],
   "source": [
    "def isPalindrome(x):\n",
    "    \"\"\"\n",
    "    :type x: int\n",
    "    :rtype: bool\n",
    "    How to check if number is palindrome:\n",
    "    Find center, position right and left pointers\n",
    "    Advance pointers outwards and compare values\n",
    "    \"\"\"\n",
    "    if x < 0:\n",
    "        return False # negative numbers are not palindromes \n",
    "    x = abs(x)\n",
    "    x = str(x)\n",
    "    \n",
    "    # left and right pointers\n",
    "    if len(x) % 2: # odd number of digits\n",
    "        l = r = len(x) // 2\n",
    "    else: # even number of digits\n",
    "        l = len(x) // 2 - 1\n",
    "        r = l + 1\n",
    "    # move pointers and compare    \n",
    "    while l != None and r != None and x[l] == x[r]:\n",
    "        l = l - 1 if l - 1 >= 0 else None\n",
    "        r = r + 1 if r + 1 <= len(x) - 1 else None\n",
    "    if l == None and r == None:\n",
    "        return True\n",
    "    return False\n",
    "print(isPalindrome(121))"
   ]
  },
  {
   "cell_type": "markdown",
   "id": "080a75c7",
   "metadata": {},
   "source": [
    "# Integer to Roman\n",
    "<a href = 'https://leetcode.com/problems/integer-to-roman/ ' target = 'blank'>Problem Description</a>"
   ]
  },
  {
   "cell_type": "markdown",
   "id": "2ede7d62-fd97-4c92-99d3-0ca5f7b77dba",
   "metadata": {},
   "source": [
    "## Solution 1\n",
    "Time Complexity : O(1)    \n",
    "It will take close to the same number of operations for 10000000 and 1000 and even less for numbers < 1000"
   ]
  },
  {
   "cell_type": "code",
   "execution_count": 1,
   "id": "14d50e43-b7a2-4c7a-b60b-ea13d519a64c",
   "metadata": {},
   "outputs": [
    {
     "name": "stdout",
     "output_type": "stream",
     "text": [
      "MMMMCDXXI\n"
     ]
    }
   ],
   "source": [
    "def int_to_roman(n):\n",
    "    romans = {1 : 'I', 4 : 'IV', 5 : 'V',\n",
    "              9 : 'IX', 10 : 'X',\n",
    "              40 : 'XL', 50 : 'L',\n",
    "              90 : 'XC', 100 : 'C',\n",
    "              400 : 'CD', 500 : 'D',\n",
    "              900 : 'CM', 1000 : 'M'}\n",
    "    \n",
    "    length = len(str(n))\n",
    "    ans = ''\n",
    "    if length > 4: # numbers > 9999\n",
    "        first_num = int(str(n)[0])\n",
    "        grp = 10 ** (length - 1)\n",
    "        ans += 'M' * ((first_num * grp) // 1000)\n",
    "        i = 4 # initial pointer to left most digit\n",
    "        \n",
    "    else: # numbers < 10000\n",
    "        i = length # initial pointer to left most digit\n",
    "        \n",
    "    while i >= 1:\n",
    "        grp = 10 ** (i - 1) # position of left most digit ie ones, tens, hundreds or thousands\n",
    "        dgt = int(str(n)[length - i]) # current left most digit\n",
    "        \n",
    "        try: # number in romans dictionary\n",
    "            letter = romans[dgt * grp]\n",
    "            \n",
    "        except KeyError: # number not in romans dict\n",
    "            if dgt > 5: # upper side of the half of the current group\n",
    "                letter = romans[5 * grp] + (dgt - 5) * romans[grp]\n",
    "                \n",
    "            else: # lower side of the half of the current group\n",
    "                letter = romans[grp] * int(str(n)[length - i])\n",
    "        ans += letter\n",
    "        \n",
    "        i -= 1\n",
    "    return ans\n",
    "print(int_to_roman(4421))"
   ]
  },
  {
   "cell_type": "markdown",
   "id": "708fc9a5-7c53-4d75-829b-11690826c02b",
   "metadata": {
    "tags": []
   },
   "source": [
    "# Longest Running Prefix  \n",
    "<a href = 'https://leetcode.com/problems/longest-common-prefix/' target = 'blank'>Problem Description</a>"
   ]
  },
  {
   "cell_type": "markdown",
   "id": "4c01718a-07d3-4ca4-9795-c27671f01b1a",
   "metadata": {},
   "source": [
    "## Solution 1  \n",
    "Time Complexity : O(m * n) where m is the length of the shortest string, and n is the number of strings "
   ]
  },
  {
   "cell_type": "code",
   "execution_count": 2,
   "id": "87b05bcd-631c-4558-af27-bc9883d78f89",
   "metadata": {},
   "outputs": [
    {
     "name": "stdout",
     "output_type": "stream",
     "text": [
      "\n"
     ]
    }
   ],
   "source": [
    "def longestCommonPrefix(strs):\n",
    "    \"\"\"\n",
    "    :type strs: List[str]\n",
    "    :rtype: str\n",
    "    \"\"\"\n",
    "    # sort to limit the number of operations since j is incremented upto the length - 1 of the shortest string\n",
    "    strs.sort(key=len)\n",
    "    if any(len(strng) == 0 for strng in strs):\n",
    "        return ''\n",
    "    curr = strs[0][0] # current longest running prefix\n",
    "    i = j = 0\n",
    "    while j < len(strs[i]): # j : pointer for current character\n",
    "        while i < len(strs): # i : current string\n",
    "            if strs[i][j] == curr[-1]:\n",
    "                i += 1 # move to next string only when the current character of string i equals the last character of the current prefix\n",
    "            else:\n",
    "                return curr[:-1] # return current prefix minus last character\n",
    "        j += 1\n",
    "        i = 0\n",
    "        try:\n",
    "            curr += strs[i][j]\n",
    "        except IndexError: # reached end of the first string\n",
    "            return curr\n",
    "print(longestCommonPrefix(['flower', 'gflow','dfloor','efl']))"
   ]
  },
  {
   "cell_type": "markdown",
   "id": "093ec44d-dabb-4327-9d95-c699a2aba0e4",
   "metadata": {},
   "source": [
    "# 3 sum\n",
    "<a href = 'https://leetcode.com/problems/3sum/' target = 'blank'>Problem Description</a>"
   ]
  },
  {
   "cell_type": "markdown",
   "id": "61edd488-a4c3-4a26-a984-483ebbc2f385",
   "metadata": {},
   "source": [
    "## Solution 1\n",
    "O(n ** 2)"
   ]
  },
  {
   "cell_type": "code",
   "execution_count": 3,
   "id": "235eef44-c834-4074-b9b1-a688287d89b5",
   "metadata": {},
   "outputs": [
    {
     "name": "stdout",
     "output_type": "stream",
     "text": [
      "[[0, 0, 0]]\n"
     ]
    }
   ],
   "source": [
    "def threeSum(nums):\n",
    "    res = [] # output of the function\n",
    "    nums.sort() # time complexity : O(n log(n))\n",
    "\n",
    "    # time complexity : O(n ** 2) ie for a nested loop\n",
    "    for i in range(len(nums)):\n",
    "        if i > 0 and nums[i] == nums[i - 1]:\n",
    "            continue # move to the next i\n",
    "\n",
    "        l, r = i + 1, len(nums) - 1 # left and right pointers\n",
    "        while l < r:\n",
    "            sum = nums[i] + nums[l] + nums[r]\n",
    "            if sum > 0:\n",
    "                r -= 1\n",
    "            elif sum < 0:\n",
    "                l += 1\n",
    "            else: # sum = 0\n",
    "                res.append([nums[i], nums[l], nums[r]])\n",
    "                r -= 1 # move either left or right  pointers but substitute l for r in the while loop below\n",
    "                while nums[r] == nums[r + 1] and l < r:\n",
    "                    r -= 1\n",
    "    return res\n",
    "print(threeSum([0,0,0,0]))"
   ]
  },
  {
   "cell_type": "markdown",
   "id": "0d36a2f7-3f5d-464d-b908-b8cd8ef1f7ac",
   "metadata": {},
   "source": [
    "# Letter Combinations of Phone numbers  \n",
    "<a href = 'https://leetcode.com/problems/letter-combinations-of-a-phone-number/submissions/' target = 'blank'>Problem Description</a>"
   ]
  },
  {
   "cell_type": "markdown",
   "id": "c034b72b-aea3-416d-b2b9-d19a686a1574",
   "metadata": {},
   "source": [
    "## Solution 1 : Back Tracking\n",
    "<a href = 'https://youtu.be/0snEunUacZY' target = 'blank'>Video Tutorial</a>  \n",
    "O(n * 4**n)"
   ]
  },
  {
   "cell_type": "code",
   "execution_count": 1,
   "id": "f4e632f3-e19d-4429-ba15-b084fb94359f",
   "metadata": {},
   "outputs": [
    {
     "name": "stdout",
     "output_type": "stream",
     "text": [
      "['ad', 'ae', 'af', 'bd', 'be', 'bf', 'cd', 'ce', 'cf']\n"
     ]
    }
   ],
   "source": [
    "class Solution:\n",
    "    def letterCombinations(self, digits: str) :\n",
    "        dial_lookup = {\n",
    "            \"1\": [],\n",
    "            \"2\": [\"a\", \"b\", \"c\"],\n",
    "            \"3\": [\"d\", \"e\", \"f\"],\n",
    "            \"4\": [\"g\", \"h\", \"i\"],\n",
    "            \"5\": [\"j\", \"k\", \"l\"],\n",
    "            \"6\": [\"m\", \"n\", \"o\"],\n",
    "            \"7\": [\"p\", \"q\", \"r\", \"s\"],\n",
    "            \"8\": [\"t\", \"u\", \"v\"],\n",
    "            \"9\": [\"w\", \"x\", \"y\", \"z\"]\n",
    "        }\n",
    "\n",
    "        res = [] # result\n",
    "        def back_track(idx, curr_str): # idx : index of current digit\n",
    "            if len(curr_str) == len(digits):\n",
    "                res.append(curr_str)\n",
    "                return # return one step earlier before the lengths were equal\n",
    "\n",
    "            for char in dial_lookup[digits[idx]]:\n",
    "                back_track(idx + 1, curr_str + char) # build the string\n",
    "        if digits:\n",
    "            back_track(0, '') # start with the first index of digits and an empty string\n",
    "        return res\n",
    "s = Solution()\n",
    "print(s.letterCombinations('23'))\n"
   ]
  },
  {
   "cell_type": "markdown",
   "id": "767333e8-e8cf-431e-8338-20e2dc990524",
   "metadata": {},
   "source": [
    "# 3 sum closest  \n",
    "<a href = 'https://leetcode.com/problems/3sum-closest/' target = 'blank'>Problem Description</a>"
   ]
  },
  {
   "cell_type": "markdown",
   "id": "c7b5fb2d-366e-4957-9ab9-57d84509a73e",
   "metadata": {},
   "source": [
    "## Solution 1  \n",
    "Overall time complexity O(n ** 2)"
   ]
  },
  {
   "cell_type": "code",
   "execution_count": 3,
   "id": "66fd4701-6703-4b59-b9b7-2dbb1ee253fc",
   "metadata": {},
   "outputs": [
    {
     "name": "stdout",
     "output_type": "stream",
     "text": [
      "0\n"
     ]
    }
   ],
   "source": [
    "class Solution(object):\n",
    "    def threeSumClosest(self, nums, target):\n",
    "        \"\"\"\n",
    "        :type nums: List[int]\n",
    "        :type target: int\n",
    "        :rtype: int\n",
    "        \"\"\"\n",
    "        closest_sum = float('inf')\n",
    "        nums.sort() # time complexity O(n log(n))\n",
    "\n",
    "        for i in range(0, len(nums) - 2): # time O(n)\n",
    "            if i > 0 and nums[i] == nums[i - 1]:\n",
    "                continue\n",
    "                \n",
    "            l = i + 1\n",
    "            r = len(nums) - 1\n",
    "            while l < r: # time O(n)\n",
    "                sum_ = nums[i] + nums[l] + nums[r]\n",
    "                \n",
    "                if sum_ == target:\n",
    "                    return sum_\n",
    "                \n",
    "                if abs(target - sum_) < abs(target - closest_sum):\n",
    "                    closest_sum = sum_\n",
    "                    \n",
    "                if sum_ < target:\n",
    "                    l += 1\n",
    "                    while nums[l] == nums[l - 1] and l < r:\n",
    "                        l += 1\n",
    "                else:\n",
    "                    r -= 1\n",
    "                    while nums[r] == nums[r + 1] and l < r :\n",
    "                        r -= 1\n",
    "\n",
    "        return closest_sum\n",
    "s = Solution()\n",
    "ans = s.threeSumClosest(nums = [0,0,0], target = 1)\n",
    "print(ans)"
   ]
  },
  {
   "cell_type": "code",
   "execution_count": null,
   "id": "85372b2d-ef25-4d4e-9b55-0113d119badd",
   "metadata": {},
   "outputs": [],
   "source": []
  }
 ],
 "metadata": {
  "kernelspec": {
   "display_name": "Python [conda env:py37]",
   "language": "python",
   "name": "conda-env-py37-py"
  },
  "language_info": {
   "codemirror_mode": {
    "name": "ipython",
    "version": 3
   },
   "file_extension": ".py",
   "mimetype": "text/x-python",
   "name": "python",
   "nbconvert_exporter": "python",
   "pygments_lexer": "ipython3",
   "version": "3.7.10"
  },
  "toc-autonumbering": true,
  "toc-showcode": false
 },
 "nbformat": 4,
 "nbformat_minor": 5
}
